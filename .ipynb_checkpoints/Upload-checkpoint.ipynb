{
 "cells": [
  {
   "cell_type": "code",
   "execution_count": 4,
   "id": "f047d3e1-c0fc-4758-805e-9fa9ab320e20",
   "metadata": {},
   "outputs": [
    {
     "ename": "SyntaxError",
     "evalue": "invalid syntax (3352273831.py, line 13)",
     "output_type": "error",
     "traceback": [
      "\u001b[0;36m  Cell \u001b[0;32mIn[4], line 13\u001b[0;36m\u001b[0m\n\u001b[0;31m    elseif:\u001b[0m\n\u001b[0m            ^\u001b[0m\n\u001b[0;31mSyntaxError\u001b[0m\u001b[0;31m:\u001b[0m invalid syntax\n"
     ]
    }
   ],
   "source": [
    "import os\n",
    "import requests\n",
    "from flask import Flask, request, jsonify\n",
    "\n",
    "app = Flask(__name__)\n",
    "\n",
    "@app.route('/api/upload', methods=['POST'])\n",
    "\n",
    "def transcribe_audio(file_path):\n",
    "    api_key = os.getenv('AAI_API')  # Ensure this environment variable is set with your AssemblyAI API key\n",
    "   if not api_key:\n",
    "        print(\"AssemblyAI API key is not set\")\n",
    "        return \"API key not set\"\n",
    "    else:\n",
    "        print(\"API Good!\")\n",
    "\n",
    "    headers = {'authorization': api_key}\n",
    "    with open(file_path, 'rb') as f:\n",
    "        response = requests.post('https://api.assemblyai.com/v2/upload', headers=headers, files={'file': f})\n",
    "    \n",
    "    if response.status_code != 200:\n",
    "        print(f\"Error uploading file: {response.json()}\")\n",
    "        return \"Error uploading file\"\n",
    "\n",
    "    upload_url = response.json().get('upload_url')\n",
    "    if not upload_url:\n",
    "        print(\"Failed to get upload URL\")\n",
    "        return \"Failed to get upload URL\"\n",
    "\n",
    "    response = requests.post('https://api.assemblyai.com/v2/transcript', headers=headers, json={'audio_url': upload_url})\n",
    "    if response.status_code != 200:\n",
    "        print(f\"Error starting transcription: {response.json()}\")\n",
    "        return \"Error starting transcription\"\n",
    "    \n",
    "    transcript_id = response.json().get('id')\n",
    "    if not transcript_id:\n",
    "        print(\"Failed to get transcript ID\")\n",
    "        return \"Failed to get transcript ID\"\n",
    "\n",
    "    while True:\n",
    "        response = requests.get(f'https://api.assemblyai.com/v2/transcript/{transcript_id}', headers=headers)\n",
    "        result = response.json()\n",
    "        if result['status'] == 'completed':\n",
    "            return result['text']\n",
    "        elif result['status'] == 'failed':\n",
    "            print(\"Transcription failed\")\n",
    "            return 'Transcription failed'\n",
    "        elif result['status'] == 'queued':\n",
    "            continue\n",
    "        else:\n",
    "            print(f\"Unexpected status: {result['status']}\")\n",
    "            continue\n",
    "            \n",
    "def upload_file():\n",
    "    if 'file' not in request.files:\n",
    "        return jsonify({\"error\": \"No file part\"}), 400\n",
    "    file = request.files['file']\n",
    "    if file.filename == '':\n",
    "        return jsonify({\"error\": \"No selected file\"}), 400\n",
    "\n",
    "    file_path = os.path.join('/tmp', file.filename)\n",
    "    file.save(file_path)\n",
    "    print(f\"File saved to {file_path}\")\n",
    "\n",
    "    transcription = transcribe_audio(file_path)\n",
    "    return jsonify({\"transcription\": transcription})\n",
    "\n",
    "if __name__ == '__main__':\n",
    "    app.run(debug=True)\n"
   ]
  },
  {
   "cell_type": "code",
   "execution_count": null,
   "id": "a098f84c-ae5d-430f-9997-31918f32eb03",
   "metadata": {},
   "outputs": [],
   "source": []
  }
 ],
 "metadata": {
  "kernelspec": {
   "display_name": "Python 3 (ipykernel)",
   "language": "python",
   "name": "python3"
  },
  "language_info": {
   "codemirror_mode": {
    "name": "ipython",
    "version": 3
   },
   "file_extension": ".py",
   "mimetype": "text/x-python",
   "name": "python",
   "nbconvert_exporter": "python",
   "pygments_lexer": "ipython3",
   "version": "3.11.7"
  }
 },
 "nbformat": 4,
 "nbformat_minor": 5
}
