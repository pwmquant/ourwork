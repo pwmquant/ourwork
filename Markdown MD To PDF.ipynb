{
 "cells": [
  {
   "cell_type": "code",
   "execution_count": 5,
   "id": "f5720eed-e626-4776-8e8c-92843933fa97",
   "metadata": {},
   "outputs": [],
   "source": [
    "import markdown\n",
    "from weasyprint import HTML\n",
    "\n",
    "def convert_md_to_pdf(md_file_path, pdf_file_path, css_path=None):\n",
    "    # Read the Markdown file\n",
    "    with open(md_file_path, 'r', encoding='utf-8') as f:\n",
    "        md_content = f.read()\n",
    "    \n",
    "    # Convert Markdown to HTML\n",
    "    html_content = markdown.markdown(md_content)\n",
    "    \n",
    "    # Optionally add CSS for styling\n",
    "    if css_path:\n",
    "        with open(css_path, 'r', encoding='utf-8') as f:\n",
    "            css_content = f.read()\n",
    "        html_content = f'<style>{css_content}</style>{html_content}'\n",
    "    \n",
    "    # Convert HTML to PDF\n",
    "    HTML(string=html_content).write_pdf(pdf_file_path)\n",
    "\n",
    "# Example usage\n",
    "md_file_path = 'readme.md'\n",
    "pdf_file_path = 'readme.pdf'\n",
    "css_path = 'style.css'  # Optional\n",
    "\n",
    "\n",
    "convert_md_to_pdf(md_file_path, pdf_file_path, css_path)"
   ]
  },
  {
   "cell_type": "code",
   "execution_count": null,
   "id": "a5a9bba6-1638-4c02-a6f6-e3a47a12cd1d",
   "metadata": {},
   "outputs": [],
   "source": []
  }
 ],
 "metadata": {
  "kernelspec": {
   "display_name": "Python 3 (ipykernel)",
   "language": "python",
   "name": "python3"
  },
  "language_info": {
   "codemirror_mode": {
    "name": "ipython",
    "version": 3
   },
   "file_extension": ".py",
   "mimetype": "text/x-python",
   "name": "python",
   "nbconvert_exporter": "python",
   "pygments_lexer": "ipython3",
   "version": "3.11.7"
  }
 },
 "nbformat": 4,
 "nbformat_minor": 5
}
